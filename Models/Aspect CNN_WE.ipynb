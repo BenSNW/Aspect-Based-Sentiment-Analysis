{
 "cells": [
  {
   "cell_type": "code",
   "execution_count": 1,
   "metadata": {
    "collapsed": false
   },
   "outputs": [
    {
     "name": "stderr",
     "output_type": "stream",
     "text": [
      "Using Theano backend.\n",
      "Using gpu device 0: GeForce GT 730M (CNMeM is disabled, cuDNN 5103)\n"
     ]
    }
   ],
   "source": [
    "from __future__ import print_function\n",
    "import os\n",
    "import numpy as np\n",
    "np.random.seed(1337)\n",
    "\n",
    "from tqdm import tqdm\n",
    "from keras.preprocessing.text import Tokenizer\n",
    "from keras.preprocessing.sequence import pad_sequences\n",
    "from keras.utils.np_utils import to_categorical\n",
    "from keras.layers import Dense, Input, Flatten\n",
    "from keras.layers import Conv1D, MaxPooling1D, Embedding\n",
    "from keras.models import Model\n",
    "import sys"
   ]
  },
  {
   "cell_type": "code",
   "execution_count": 2,
   "metadata": {
    "collapsed": false
   },
   "outputs": [
    {
     "name": "stdout",
     "output_type": "stream",
     "text": [
      "Processing text dataset\n",
      "Generated list of sentences..\n"
     ]
    }
   ],
   "source": [
    "import xml.etree.ElementTree as ET\n",
    "print('Processing text dataset')\n",
    "\n",
    "tree = ET.parse(\"/home/jeet/Academics/CS671/Project/Restaurants_Train.xml\")\n",
    "corpus = tree.getroot()\n",
    "sentences = [] # List of list of sentences.\n",
    "sent = corpus.findall('.//sentence')\n",
    "for s in sent:\n",
    "    sentences.append(s.find('text').text)\n",
    "\n",
    "print ('Generated list of sentences..')\n",
    "\n",
    "MAX_SEQ_LENGTH = 69\n",
    "MAX_NB_WORDS = 40000\n",
    "EMBEDDING_DIM = 300"
   ]
  },
  {
   "cell_type": "code",
   "execution_count": 3,
   "metadata": {
    "collapsed": false
   },
   "outputs": [
    {
     "name": "stdout",
     "output_type": "stream",
     "text": [
      "Indexing word vectors.\n",
      "Found 400000 word vectors.\n"
     ]
    }
   ],
   "source": [
    "print('Indexing word vectors.')\n",
    "\n",
    "embeddings_index = {}\n",
    "f = open('glove.6B/glove.6B.300d.txt')\n",
    "for line in f:\n",
    "    values = line.split()\n",
    "    word = values[0]\n",
    "    coefs = np.asarray(values[1:], dtype='float32')\n",
    "    embeddings_index[word] = coefs\n",
    "f.close()\n",
    "\n",
    "print('Found %s word vectors.' % len(embeddings_index))"
   ]
  },
  {
   "cell_type": "code",
   "execution_count": 4,
   "metadata": {
    "collapsed": false
   },
   "outputs": [
    {
     "name": "stdout",
     "output_type": "stream",
     "text": [
      "Found 5250 unique tokens.\n",
      "Shape of data tensor: (3044, 69)\n"
     ]
    }
   ],
   "source": [
    "tokenizer = Tokenizer(nb_words=MAX_NB_WORDS, lower=False)\n",
    "tokenizer.fit_on_texts(sentences)\n",
    "sequences = tokenizer.texts_to_sequences(sentences)\n",
    "\n",
    "word_index = tokenizer.word_index\n",
    "print('Found %s unique tokens.' % len(word_index))\n",
    "\n",
    "data = pad_sequences(sequences, maxlen=MAX_SEQ_LENGTH, padding='post')\n",
    "print('Shape of data tensor:', data.shape)"
   ]
  },
  {
   "cell_type": "code",
   "execution_count": 5,
   "metadata": {
    "collapsed": false
   },
   "outputs": [
    {
     "name": "stdout",
     "output_type": "stream",
     "text": [
      "Shape of output tensor: (3044, 69)\n"
     ]
    },
    {
     "name": "stderr",
     "output_type": "stream",
     "text": [
      "/usr/local/lib/python2.7/dist-packages/ipykernel/__main__.py:11: FutureWarning: The behavior of this method will change in future versions.  Use specific 'len(elem)' or 'elem is not None' test instead.\n"
     ]
    }
   ],
   "source": [
    "import nltk\n",
    "from keras.preprocessing.text import text_to_word_sequence\n",
    "raw_output = corpus.findall('.//sentence')\n",
    "train_out= np.zeros(shape=(3044,69))\n",
    "i=0\n",
    "for output in raw_output:\n",
    "    s = text_to_word_sequence(output.find('text').text, lower=False)\n",
    "    indices = np.zeros(MAX_SEQ_LENGTH)\n",
    "    \n",
    "    aspectTerms = output.find('aspectTerms')\n",
    "    if (aspectTerms):\n",
    "        aspectTerm = aspectTerms.findall('aspectTerm')\n",
    "        if (aspectTerm):\n",
    "            for aspect_term in aspectTerm:\n",
    "                try:\n",
    "                    indices[s.index(aspect_term.attrib['term'])] = 1\n",
    "#                     print (indices)\n",
    "                except:\n",
    "                    continue\n",
    "    train_out[i] = indices\n",
    "    i=i+1\n",
    "\n",
    "print (\"Shape of output tensor:\", train_out.shape)"
   ]
  },
  {
   "cell_type": "code",
   "execution_count": 7,
   "metadata": {
    "collapsed": false
   },
   "outputs": [
    {
     "name": "stdout",
     "output_type": "stream",
     "text": [
      "Preparing embedding matrix.\n",
      "Embedding Layer set..\n"
     ]
    }
   ],
   "source": [
    "print('Preparing embedding matrix.')\n",
    "\n",
    "# prepare embedding matrix\n",
    "nb_words = len(word_index)\n",
    "embedding_matrix = np.zeros((nb_words + 1, 300))\n",
    "for word, i in word_index.items():\n",
    "    if i > MAX_NB_WORDS:\n",
    "        continue\n",
    "    embedding_vector = embeddings_index.get(word)\n",
    "    if embedding_vector is not None:\n",
    "        # words not found in embedding index will be all-zeros.\n",
    "        embedding_matrix[i] = embedding_vector\n",
    "\n",
    "# load pre-trained word embeddings into an Embedding layer\n",
    "# Here, we have set trainable = False so as to keep the embeddings fixed.\n",
    "embedding_layer = Embedding(nb_words + 1,\n",
    "                            300,\n",
    "                            weights=[embedding_matrix],\n",
    "                            input_length=MAX_SEQ_LENGTH,\n",
    "                            trainable=False)\n",
    "print('Embedding Layer set..')"
   ]
  },
  {
   "cell_type": "code",
   "execution_count": 8,
   "metadata": {
    "collapsed": false
   },
   "outputs": [
    {
     "name": "stdout",
     "output_type": "stream",
     "text": [
      "Generated word Embeddings..\n",
      "Shape of Embedding_output (3044, 69, 300)\n"
     ]
    }
   ],
   "source": [
    "from keras.models import Sequential\n",
    "embedding_model = Sequential()\n",
    "embedding_model.add(embedding_layer)\n",
    "\n",
    "embedding_model.compile(loss='categorical_crossentropy',\n",
    "                        optimizer='rmsprop',\n",
    "                        metrics=['acc']\n",
    "                       )\n",
    "embedding_output = embedding_model.predict(data)\n",
    "print('Generated word Embeddings..')\n",
    "print('Shape of Embedding_output', embedding_output.shape)"
   ]
  },
  {
   "cell_type": "code",
   "execution_count": 11,
   "metadata": {
    "collapsed": true
   },
   "outputs": [],
   "source": [
    "from keras.models import Sequential\n",
    "from keras.layers.convolutional import Convolution1D, Convolution2D\n",
    "from keras.layers.convolutional import MaxPooling1D, MaxPooling2D\n",
    "from keras.layers.core import Activation\n",
    "from keras.layers.core import Flatten\n",
    "from keras.layers.core import Dense\n",
    "from keras.preprocessing import sequence\n",
    "from keras.optimizers import *\n",
    "from keras.regularizers import l2"
   ]
  },
  {
   "cell_type": "code",
   "execution_count": 12,
   "metadata": {
    "collapsed": false
   },
   "outputs": [
    {
     "name": "stdout",
     "output_type": "stream",
     "text": [
      "Compiling Model...\n",
      "Model Compiled.\n"
     ]
    }
   ],
   "source": [
    "print('Compiling Model...')\n",
    "model = Sequential()\n",
    "model.add(Convolution1D(100, 5, border_mode=\"same\", input_shape=(69, 300)))\n",
    "model.add(Activation(\"tanh\"))\n",
    "model.add(MaxPooling1D(pool_length=5))\n",
    "model.add(Convolution1D(50, 3, border_mode=\"same\"))\n",
    "model.add(Activation(\"tanh\"))\n",
    "model.add(MaxPooling1D(pool_length=2))\n",
    "model.add(Flatten())\n",
    "model.add(Dense(500))\n",
    "model.add(Activation(\"tanh\"))\n",
    "# softmax classifier\n",
    "model.add(Dense(69, W_regularizer=l2(0.01)))\n",
    "model.add(Activation(\"softmax\"))\n",
    "\n",
    "# model.load_weights('aspect_model_wepos.h5')\n",
    "model.compile(loss='categorical_crossentropy',\n",
    "              optimizer='rmsprop',\n",
    "              metrics=['acc'])\n",
    "\n",
    "print('Model Compiled.')"
   ]
  },
  {
   "cell_type": "code",
   "execution_count": 13,
   "metadata": {
    "collapsed": false
   },
   "outputs": [
    {
     "name": "stdout",
     "output_type": "stream",
     "text": [
      "Train on 2739 samples, validate on 305 samples\n",
      "Epoch 1/50\n",
      "2739/2739 [==============================] - 6s - loss: 2.9032 - acc: 0.2311 - val_loss: 2.2279 - val_acc: 0.2557\n",
      "Epoch 2/50\n",
      "2739/2739 [==============================] - 5s - loss: 2.1396 - acc: 0.4122 - val_loss: 1.9800 - val_acc: 0.4984\n",
      "Epoch 3/50\n",
      "2739/2739 [==============================] - 5s - loss: 1.6870 - acc: 0.4746 - val_loss: 1.8439 - val_acc: 0.4459\n",
      "Epoch 4/50\n",
      "2739/2739 [==============================] - 6s - loss: 1.4014 - acc: 0.5152 - val_loss: 1.7698 - val_acc: 0.4098\n",
      "Epoch 5/50\n",
      "2739/2739 [==============================] - 5s - loss: 1.2759 - acc: 0.5250 - val_loss: 1.7843 - val_acc: 0.4492\n",
      "Epoch 6/50\n",
      "2739/2739 [==============================] - 5s - loss: 1.2081 - acc: 0.5235 - val_loss: 1.7899 - val_acc: 0.4525\n",
      "Epoch 7/50\n",
      "2739/2739 [==============================] - 5s - loss: 1.1279 - acc: 0.5225 - val_loss: 1.7665 - val_acc: 0.4164\n",
      "Epoch 8/50\n",
      "2739/2739 [==============================] - 5s - loss: 1.0869 - acc: 0.5243 - val_loss: 1.7973 - val_acc: 0.4393\n",
      "Epoch 9/50\n",
      "2739/2739 [==============================] - 5s - loss: 1.0452 - acc: 0.5243 - val_loss: 1.7066 - val_acc: 0.4492\n",
      "Epoch 10/50\n",
      "2739/2739 [==============================] - 6s - loss: 1.0131 - acc: 0.5137 - val_loss: 1.7722 - val_acc: 0.4164\n",
      "Epoch 11/50\n",
      "2739/2739 [==============================] - 6s - loss: 0.9985 - acc: 0.5170 - val_loss: 1.6698 - val_acc: 0.4459\n",
      "Epoch 12/50\n",
      "2739/2739 [==============================] - 5s - loss: 0.9683 - acc: 0.5403 - val_loss: 1.6745 - val_acc: 0.4984\n",
      "Epoch 13/50\n",
      "2739/2739 [==============================] - 5s - loss: 0.9543 - acc: 0.5298 - val_loss: 1.7130 - val_acc: 0.4230\n",
      "Epoch 14/50\n",
      "2739/2739 [==============================] - 5s - loss: 0.9396 - acc: 0.5192 - val_loss: 1.6079 - val_acc: 0.4852\n",
      "Epoch 15/50\n",
      "2739/2739 [==============================] - 5s - loss: 0.9265 - acc: 0.5152 - val_loss: 1.6625 - val_acc: 0.4295\n",
      "Epoch 16/50\n",
      "2739/2739 [==============================] - 5s - loss: 0.9070 - acc: 0.5312 - val_loss: 1.7486 - val_acc: 0.4230\n",
      "Epoch 17/50\n",
      "2739/2739 [==============================] - 5s - loss: 0.8980 - acc: 0.5268 - val_loss: 1.6894 - val_acc: 0.4230\n",
      "Epoch 18/50\n",
      "2739/2739 [==============================] - 5s - loss: 0.8881 - acc: 0.5250 - val_loss: 1.6037 - val_acc: 0.4656\n",
      "Epoch 19/50\n",
      "2739/2739 [==============================] - 5s - loss: 0.8821 - acc: 0.5279 - val_loss: 1.6058 - val_acc: 0.5115\n",
      "Epoch 20/50\n",
      "2739/2739 [==============================] - 5s - loss: 0.8663 - acc: 0.5305 - val_loss: 1.6184 - val_acc: 0.4295\n",
      "Epoch 21/50\n",
      "2739/2739 [==============================] - 5s - loss: 0.8702 - acc: 0.5221 - val_loss: 1.5783 - val_acc: 0.4393\n",
      "Epoch 22/50\n",
      "2739/2739 [==============================] - 5s - loss: 0.8562 - acc: 0.5210 - val_loss: 1.6866 - val_acc: 0.4492\n",
      "Epoch 23/50\n",
      "2739/2739 [==============================] - 5s - loss: 0.8434 - acc: 0.5312 - val_loss: 1.6634 - val_acc: 0.4820\n",
      "Epoch 24/50\n",
      "2739/2739 [==============================] - 5s - loss: 0.8460 - acc: 0.5210 - val_loss: 1.6382 - val_acc: 0.4131\n",
      "Epoch 25/50\n",
      "2739/2739 [==============================] - 5s - loss: 0.8367 - acc: 0.5203 - val_loss: 1.7131 - val_acc: 0.4590\n",
      "Epoch 26/50\n",
      "2739/2739 [==============================] - 5s - loss: 0.8387 - acc: 0.5246 - val_loss: 1.5964 - val_acc: 0.4459\n",
      "Epoch 27/50\n",
      "2739/2739 [==============================] - 6s - loss: 0.8314 - acc: 0.5283 - val_loss: 1.6315 - val_acc: 0.4361\n",
      "Epoch 28/50\n",
      "2739/2739 [==============================] - 5s - loss: 0.8276 - acc: 0.5166 - val_loss: 1.6588 - val_acc: 0.4525\n",
      "Epoch 29/50\n",
      "2739/2739 [==============================] - 5s - loss: 0.8213 - acc: 0.5312 - val_loss: 1.6776 - val_acc: 0.4689\n",
      "Epoch 30/50\n",
      "2739/2739 [==============================] - 5s - loss: 0.8173 - acc: 0.5316 - val_loss: 1.6691 - val_acc: 0.4492\n",
      "Epoch 31/50\n",
      "2739/2739 [==============================] - 5s - loss: 0.8105 - acc: 0.5246 - val_loss: 1.6242 - val_acc: 0.4328\n",
      "Epoch 32/50\n",
      "2739/2739 [==============================] - 5s - loss: 0.8130 - acc: 0.5319 - val_loss: 1.6401 - val_acc: 0.4754\n",
      "Epoch 33/50\n",
      "2739/2739 [==============================] - 5s - loss: 0.8030 - acc: 0.5290 - val_loss: 1.6136 - val_acc: 0.4361\n",
      "Epoch 34/50\n",
      "2739/2739 [==============================] - 6s - loss: 0.8059 - acc: 0.5309 - val_loss: 1.6710 - val_acc: 0.4721\n",
      "Epoch 35/50\n",
      "2739/2739 [==============================] - 6s - loss: 0.8016 - acc: 0.5221 - val_loss: 1.6573 - val_acc: 0.4820\n",
      "Epoch 36/50\n",
      "2739/2739 [==============================] - 7s - loss: 0.8016 - acc: 0.5319 - val_loss: 1.6934 - val_acc: 0.4885\n",
      "Epoch 37/50\n",
      "2739/2739 [==============================] - 6s - loss: 0.7988 - acc: 0.5235 - val_loss: 1.6523 - val_acc: 0.4557\n",
      "Epoch 38/50\n",
      "2739/2739 [==============================] - 6s - loss: 0.7989 - acc: 0.5294 - val_loss: 1.6297 - val_acc: 0.4754\n",
      "Epoch 39/50\n",
      "2739/2739 [==============================] - 5s - loss: 0.7974 - acc: 0.5254 - val_loss: 1.6926 - val_acc: 0.5049\n",
      "Epoch 40/50\n",
      "2739/2739 [==============================] - 5s - loss: 0.7944 - acc: 0.5228 - val_loss: 1.6970 - val_acc: 0.4885\n",
      "Epoch 41/50\n",
      "2739/2739 [==============================] - 5s - loss: 0.7963 - acc: 0.5294 - val_loss: 1.6476 - val_acc: 0.5148\n",
      "Epoch 42/50\n",
      "2739/2739 [==============================] - 5s - loss: 0.7932 - acc: 0.5341 - val_loss: 1.6615 - val_acc: 0.4623\n",
      "Epoch 43/50\n",
      "2739/2739 [==============================] - 5s - loss: 0.7903 - acc: 0.5268 - val_loss: 1.6660 - val_acc: 0.4689\n",
      "Epoch 44/50\n",
      "2739/2739 [==============================] - 5s - loss: 0.7885 - acc: 0.5330 - val_loss: 1.6548 - val_acc: 0.4459\n",
      "Epoch 45/50\n",
      "2739/2739 [==============================] - 6s - loss: 0.7888 - acc: 0.5440 - val_loss: 1.7157 - val_acc: 0.4984\n",
      "Epoch 46/50\n",
      "2739/2739 [==============================] - 5s - loss: 0.7870 - acc: 0.5111 - val_loss: 1.7368 - val_acc: 0.4754\n",
      "Epoch 47/50\n",
      "2739/2739 [==============================] - 6s - loss: 0.7898 - acc: 0.5396 - val_loss: 1.7110 - val_acc: 0.4557\n",
      "Epoch 48/50\n",
      "2739/2739 [==============================] - 6s - loss: 0.7851 - acc: 0.5385 - val_loss: 1.6724 - val_acc: 0.4557\n",
      "Epoch 49/50\n",
      "2739/2739 [==============================] - 6s - loss: 0.7839 - acc: 0.5214 - val_loss: 1.6267 - val_acc: 0.4426\n",
      "Epoch 50/50\n",
      "2739/2739 [==============================] - 6s - loss: 0.7868 - acc: 0.5360 - val_loss: 1.6567 - val_acc: 0.4754\n"
     ]
    },
    {
     "data": {
      "text/plain": [
       "<keras.callbacks.History at 0x7f52d2fe6590>"
      ]
     },
     "execution_count": 13,
     "metadata": {},
     "output_type": "execute_result"
    }
   ],
   "source": [
    "model.fit(embedding_output, train_out,\n",
    "          validation_split=0.1,\n",
    "          batch_size=10,\n",
    "          nb_epoch=50\n",
    "         )"
   ]
  },
  {
   "cell_type": "code",
   "execution_count": 22,
   "metadata": {
    "collapsed": false
   },
   "outputs": [],
   "source": [
    "model.save_weights('aspect_we.h5')\n",
    "y_pred = model.predict(embedding_output[2739:])"
   ]
  },
  {
   "cell_type": "code",
   "execution_count": 19,
   "metadata": {
    "collapsed": true
   },
   "outputs": [],
   "source": [
    "processed_output = []\n",
    "for i in xrange(y_pred.shape[0]):\n",
    "    processed_label =[]\n",
    "    for j in xrange(y_pred.shape[1]):\n",
    "        if y_pred[i][j] > 0.42:\n",
    "            processed_label.append(1)\n",
    "        else:\n",
    "            processed_label.append(0)\n",
    "    processed_output.append(processed_label)"
   ]
  },
  {
   "cell_type": "code",
   "execution_count": 20,
   "metadata": {
    "collapsed": true
   },
   "outputs": [],
   "source": [
    "test_data = train_out[2739:]\n",
    "total_pos = 0.0\n",
    "true_pos = 0.0\n",
    "total_neg = 0.0\n",
    "true_neg = 0.0\n",
    "for i in xrange(test_data.shape[0]):\n",
    "    for j in xrange(test_data.shape[1]):\n",
    "        if test_data[i][j] == 1:\n",
    "            total_pos += 1\n",
    "            if processed_output[i][j] ==1:\n",
    "                true_pos +=1\n",
    "        if test_data[i][j] == 0:\n",
    "            total_neg += 1\n",
    "            if processed_output[i][j] ==0:\n",
    "                true_neg += 1\n",
    "\n",
    "false_pos = total_neg-true_neg\n",
    "false_neg = total_pos-true_pos"
   ]
  },
  {
   "cell_type": "code",
   "execution_count": 21,
   "metadata": {
    "collapsed": false
   },
   "outputs": [
    {
     "name": "stdout",
     "output_type": "stream",
     "text": [
      "precision - 0.479508196721, recall- 0.430147058824, f1_score- 0.453488372093\n"
     ]
    }
   ],
   "source": [
    "precision = true_pos/(true_pos+false_pos)\n",
    "recall = true_pos/total_pos\n",
    "f1_score = 2*precision*recall/(precision+recall)\n",
    "print (\"precision - \" +str(precision) + \", recall- \" +str(recall)+ \", f1_score- \" +str(f1_score))"
   ]
  },
  {
   "cell_type": "code",
   "execution_count": null,
   "metadata": {
    "collapsed": true
   },
   "outputs": [],
   "source": []
  }
 ],
 "metadata": {
  "kernelspec": {
   "display_name": "Python 2",
   "language": "python",
   "name": "python2"
  },
  "language_info": {
   "codemirror_mode": {
    "name": "ipython",
    "version": 2
   },
   "file_extension": ".py",
   "mimetype": "text/x-python",
   "name": "python",
   "nbconvert_exporter": "python",
   "pygments_lexer": "ipython2",
   "version": "2.7.6"
  }
 },
 "nbformat": 4,
 "nbformat_minor": 1
}
