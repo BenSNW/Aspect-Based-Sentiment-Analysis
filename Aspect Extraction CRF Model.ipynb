{
 "cells": [
  {
   "cell_type": "markdown",
   "metadata": {},
   "source": [
    "#### Generating List of sentences"
   ]
  },
  {
   "cell_type": "code",
   "execution_count": 1,
   "metadata": {
    "collapsed": false
   },
   "outputs": [
    {
     "name": "stdout",
     "output_type": "stream",
     "text": [
      "Processing text dataset\n",
      "Generated list of sentences..\n"
     ]
    }
   ],
   "source": [
    "import xml.etree.ElementTree as ET\n",
    "print('Processing text dataset')\n",
    "\n",
    "tree = ET.parse(\"/home/jeet/Academics/CS671/Project/Restaurants_Train.xml\")\n",
    "corpus = tree.getroot()\n",
    "sentences = [] # List of sentences.\n",
    "raw_data = corpus.findall('.//sentence')\n",
    "for sent in raw_data:\n",
    "    sentences.append(sent.find('text').text)\n",
    "\n",
    "print ('Generated list of sentences..')"
   ]
  },
  {
   "cell_type": "markdown",
   "metadata": {},
   "source": [
    "#### Indexing Aspects"
   ]
  },
  {
   "cell_type": "code",
   "execution_count": 2,
   "metadata": {
    "collapsed": false
   },
   "outputs": [
    {
     "name": "stderr",
     "output_type": "stream",
     "text": [
      "Using Theano backend.\n",
      "Using gpu device 0: GeForce GT 730M (CNMeM is disabled, cuDNN 5103)\n"
     ]
    },
    {
     "name": "stdout",
     "output_type": "stream",
     "text": [
      "('Shape of output tensor:', (3044, 69))\n"
     ]
    },
    {
     "name": "stderr",
     "output_type": "stream",
     "text": [
      "/usr/local/lib/python2.7/dist-packages/ipykernel/__main__.py:12: FutureWarning: The behavior of this method will change in future versions.  Use specific 'len(elem)' or 'elem is not None' test instead.\n"
     ]
    }
   ],
   "source": [
    "import nltk\n",
    "from keras.preprocessing.text import text_to_word_sequence\n",
    "import numpy as np\n",
    "\n",
    "train_out= np.zeros(shape=(3044,69))\n",
    "i=0\n",
    "for output in raw_data:\n",
    "    s = text_to_word_sequence(output.find('text').text, lower=False)\n",
    "    indices = np.zeros(69)\n",
    "    \n",
    "    aspectTerms = output.find('aspectTerms')\n",
    "    if (aspectTerms):\n",
    "        aspectTerm = aspectTerms.findall('aspectTerm')\n",
    "        if (aspectTerm):\n",
    "            for aspect_term in aspectTerm:\n",
    "                try:\n",
    "                    indices[s.index(aspect_term.attrib['term'])] = 1\n",
    "#                     print (indices)\n",
    "                except:\n",
    "                    continue\n",
    "    train_out[i] = indices\n",
    "    i=i+1\n",
    "\n",
    "print (\"Shape of output tensor:\", train_out.shape)"
   ]
  },
  {
   "cell_type": "markdown",
   "metadata": {
    "collapsed": true
   },
   "source": [
    "#### Defining input data for CRF Training"
   ]
  },
  {
   "cell_type": "code",
   "execution_count": 7,
   "metadata": {
    "collapsed": true
   },
   "outputs": [],
   "source": [
    "train_input = []\n",
    "i = 0\n",
    "for sent in sentences:\n",
    "    tuple_sent = []\n",
    "    word_token = text_to_word_sequence(sent, lower=False)\n",
    "    j = 0\n",
    "    for word in word_token:\n",
    "        input_tuple = ()\n",
    "        input_tuple = input_tuple + (word,)\n",
    "        if train_out[i][j] == 0:\n",
    "            input_tuple = input_tuple + ('NA',)\n",
    "        else:\n",
    "            input_tuple = input_tuple + ('A',)\n",
    "        tuple_sent.append(input_tuple)\n",
    "        j=j+1\n",
    "    train_input.append(tuple_sent)\n",
    "    i=i+1"
   ]
  },
  {
   "cell_type": "code",
   "execution_count": 9,
   "metadata": {
    "collapsed": false
   },
   "outputs": [],
   "source": [
    "train_data = train_input[:2739]\n",
    "test_data = sentences[2739:]"
   ]
  },
  {
   "cell_type": "code",
   "execution_count": 11,
   "metadata": {
    "collapsed": false
   },
   "outputs": [
    {
     "name": "stdout",
     "output_type": "stream",
     "text": [
      "[[('But', 'NA'), ('the', 'NA'), ('staff', 'A'), ('was', 'NA'), ('so', 'NA'), ('horrible', 'NA'), ('to', 'NA'), ('us', 'NA')], [('To', 'NA'), ('be', 'NA'), ('completely', 'NA'), ('fair', 'NA'), ('the', 'NA'), ('only', 'NA'), ('redeeming', 'NA'), ('factor', 'NA'), ('was', 'NA'), ('the', 'NA'), ('food', 'A'), ('which', 'NA'), ('was', 'NA'), ('above', 'NA'), ('average', 'NA'), ('but', 'NA'), (\"couldn't\", 'NA'), ('make', 'NA'), ('up', 'NA'), ('for', 'NA'), ('all', 'NA'), ('the', 'NA'), ('other', 'NA'), ('deficiencies', 'NA'), ('of', 'NA'), ('Teodora', 'NA')], [('The', 'NA'), ('food', 'A'), ('is', 'NA'), ('uniformly', 'NA'), ('exceptional', 'NA'), ('with', 'NA'), ('a', 'NA'), ('very', 'NA'), ('capable', 'NA'), ('kitchen', 'A'), ('which', 'NA'), ('will', 'NA'), ('proudly', 'NA'), ('whip', 'NA'), ('up', 'NA'), ('whatever', 'NA'), ('you', 'NA'), ('feel', 'NA'), ('like', 'NA'), ('eating', 'NA'), ('whether', 'NA'), (\"it's\", 'NA'), ('on', 'NA'), ('the', 'NA'), ('menu', 'A'), ('or', 'NA'), ('not', 'NA')], [('Where', 'NA'), ('Gabriela', 'NA'), ('personaly', 'NA'), ('greets', 'NA'), ('you', 'NA'), ('and', 'NA'), ('recommends', 'NA'), ('you', 'NA'), ('what', 'NA'), ('to', 'NA'), ('eat', 'NA')], [('For', 'NA'), ('those', 'NA'), ('that', 'NA'), ('go', 'NA'), ('once', 'NA'), ('and', 'NA'), (\"don't\", 'NA'), ('enjoy', 'NA'), ('it', 'NA'), ('all', 'NA'), ('I', 'NA'), ('can', 'NA'), ('say', 'NA'), ('is', 'NA'), ('that', 'NA'), ('they', 'NA'), ('just', 'NA'), (\"don't\", 'NA'), ('get', 'NA'), ('it', 'NA')]]\n"
     ]
    }
   ],
   "source": [
    "print train_data[:5]"
   ]
  },
  {
   "cell_type": "code",
   "execution_count": null,
   "metadata": {
    "collapsed": false
   },
   "outputs": [],
   "source": [
    "from nltk.tag import CRFTagger\n",
    "ct = CRFTagger()\n",
    "\n",
    "ct.train(train_data,'model.crf.tagger')\n",
    "ct.tag_sent(test_data)\n",
    "true_test = train_input[2739:]\n",
    "ct.evaluate(true_test)"
   ]
  },
  {
   "cell_type": "code",
   "execution_count": null,
   "metadata": {
    "collapsed": true
   },
   "outputs": [],
   "source": []
  }
 ],
 "metadata": {
  "kernelspec": {
   "display_name": "Python 2",
   "language": "python",
   "name": "python2"
  },
  "language_info": {
   "codemirror_mode": {
    "name": "ipython",
    "version": 2
   },
   "file_extension": ".py",
   "mimetype": "text/x-python",
   "name": "python",
   "nbconvert_exporter": "python",
   "pygments_lexer": "ipython2",
   "version": "2.7.6"
  }
 },
 "nbformat": 4,
 "nbformat_minor": 1
}
